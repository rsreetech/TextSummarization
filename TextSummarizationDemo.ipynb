{
 "cells": [
  {
   "cell_type": "markdown",
   "metadata": {},
   "source": [
    "***\n",
    "Text Summarization with spaCy\n",
    "***"
   ]
  },
  {
   "cell_type": "code",
   "execution_count": 1,
   "metadata": {},
   "outputs": [],
   "source": [
    "simport spacy\n",
    "import pytextrank\n",
    "\n",
    "nlp = spacy.load('en_core_web_md')\n",
    "\n",
    "tr = pytextrank.TextRank()\n",
    "nlp.add_pipe(tr.PipelineComponent, name='textrank', last=True)\n",
    "\n",
    "\n",
    "\n"
   ]
  },
  {
   "cell_type": "code",
   "execution_count": 2,
   "metadata": {},
   "outputs": [],
   "source": [
    "text = \"Ferrari (/fəˈrɑːri/; Italian: [ferˈraːri]) is an Italian luxury sports car manufacturer based in Maranello, Italy.\\\n",
    "Founded by Enzo Ferrari in 1939 out of the Alfa Romeo race division as Auto Avio Costruzioni, the company built its first car in 1940. However, the company's inception as an auto manufacturer is usually recognized as 1947, when the first Ferrari-badged car was completed\\\n",
    "Enzo Ferrari was not initially interested in the idea of producing road cars when he formed \\\n",
    "Scuderia Ferrari in 1929, with headquarters in Modena. Scuderia Ferrari (pronounced [skudeˈriːa]) literally means\\\n",
    "\\\"Ferrari Stable\\\" and is usually used to mean \\\"Team Ferrari.\\\" Ferrari bought,[citation needed] prepared, and \\\n",
    "fielded Alfa Romeo racing cars for gentleman drivers,functioning as the racing division of Alfa Romeo. \\\n",
    "In 1933, Alfa Romeo withdrew its in-house racing team and Scuderia Ferrari took over as its works team:[1]\\\n",
    "the Scuderia received Alfa's Grand Prix cars of the latest specifications and fielded many famous drivers such as Tazio Nuvolari and Achille Varzi.\\\n",
    "In 1938, Alfa Romeo brought its racing operation again in-house, forming Alfa Corse in Milan and hired Enzo Ferrari as manager of the new racing department; therefore the Scuderia Ferrari was disbanded.\\\n",
    "[1]In September 1939, Ferrari left Alfa Romeo under the provision he would not use the Ferrari name in association with races or racing cars for at least four years.[1] \\\n",
    "A few days later he founded Auto Avio Costruzioni, headquartered in the facilities of the old Scuderia Ferrari.[1]\\\n",
    "The new company ostensibly produced machine tools and aircraft accessories. \\\n",
    "In 1940, Ferrari produced a race car – the Tipo 815, based on a Fiat platform. \\\n",
    "It was the first Ferrari car and debuted at the 1940 Mille Miglia, but due to World War II it saw little competition. \\\n",
    "In 1943, the Ferrari factory moved to Maranello, where it has remained ever since. \\\n",
    "The factory was bombed by the Allies and subsequently rebuilt including works for road car production.\\\n",
    "The first Ferrari-badged car was the 1947 125 S, powered by a 1.5 L V12 engine;[1] \\\n",
    "Enzo Ferrari reluctantly built and sold his automobiles to fund Scuderia Ferrari.[15]\\\n",
    "The Scuderia Ferrari name was resurrected to denote the factory racing cars and distinguish them from those fielded by customer teams.\\\n",
    "In 1960 the company was restructured as a public corporation under the name SEFAC S.p.A. (Società Esercizio Fabbriche Automobili e Corse).[16]\\\n",
    "Early in 1969, Fiat took a 50% stake in Ferrari. \\\n",
    "An immediate result was an increase in available investment funds, and work started at once on a factory extension intended to transfer production from Fiat's Turin plant of the Ferrari engined Fiat Dino.\\\n",
    "New model investment further up in the Ferrari range also received a boost.\\\n",
    "In 1988, Enzo Ferrari oversaw the launch of the Ferrari F40, the last new Ferrari launched before his death later that year.\\\n",
    "In 1989, the company was renamed Ferrari S.p.A.[16] \\\n",
    "From 2002 to 2004, Ferrari produced the Enzo, their fastest model at the time, which was introduced and named in honor of the company's founder, Enzo Ferrari. \\\n",
    "It was to be called the F60, continuing on from the F40 and F50, but Ferrari was so pleased with it, they called it the Enzo instead.\\\n",
    "It was initially offered to loyal and recurring customers, each of the 399 made (minus the 400th which was donated to the Vatican for charity) had a price tag of $650,000 apiece (equivalent to £400,900).\\\n",
    "On 15 September 2012, 964 Ferrari cars worth over $162 million (£99.95 million) attended the Ferrari Driving Days event at Silverstone Circuit and paraded round the Silverstone Circuit setting a world record.[17]\\\n",
    "Ferrari's former CEO and Chairman, Luca di Montezemolo, resigned from the company after 23 years, who was succeeded by Amedeo Felisa and finally on 3 May 2016 Amedeo resigned and was succeeded by Sergio Marchionne, CEO and Chairman of Fiat Chrysler Automobiles, Ferrari's parent company.[18]\\\n",
    "In July 2018, Marchionne was replaced by board member Louis Camilleri as CEO and by John Elkann as chairman.[19]\\\n",
    "On 29 October 2014, the FCA group, resulting from the merger between manufacturers Fiat and Chrysler, announced the split of its luxury brand, Ferrari. \\\n",
    "The aim was to turn Ferrari into an independent brand, 10% of whose stake would be sold in an IPO in 2015.[20]\\\n",
    "Ferrari officially priced its initial public offering at $52 a share after the market close on 20 October 2015.[21]\"\n"
   ]
  },
  {
   "cell_type": "code",
   "execution_count": 3,
   "metadata": {},
   "outputs": [
    {
     "name": "stdout",
     "output_type": "stream",
     "text": [
      "0.1227     7  scuderia ferrari\n",
      "[Scuderia Ferrari, Scuderia Ferrari, Scuderia Ferrari, Scuderia Ferrari, Scuderia Ferrari, Scuderia Ferrari, the Scuderia Ferrari]\n",
      "0.1190     1  scuderia ferrari.[15]the scuderia ferrari\n",
      "[Scuderia Ferrari.[15]The Scuderia Ferrari]\n",
      "0.1183    10  enzo ferrari\n",
      "[Enzo Ferrari, Enzo Ferrari, Enzo Ferrari, Enzo Ferrari, Enzo Ferrari, Enzo Ferrari, Enzo Ferrari, Enzo Ferrari, Enzo Ferrari, Enzo Ferrari]\n",
      "0.1177    32  ferrari\n",
      "[Ferrari, Ferrari, Ferrari, Ferrari, Ferrari, Ferrari, Ferrari, Ferrari, Ferrari, Ferrari, Ferrari, Ferrari, Ferrari, Ferrari, Ferrari, Ferrari, Ferrari, Ferrari, Ferrari, Ferrari, Ferrari, Ferrari, Ferrari, Ferrari, Ferrari, Ferrari, Ferrari, Ferrari, Ferrari, Ferrari, Ferrari, the Ferrari]\n",
      "0.1160     1  scuderia ferrari.[15]the scuderia ferrari name\n",
      "[Scuderia Ferrari.[15]The Scuderia Ferrari name]\n",
      "0.1105     2  ferrari bought,[citation\n",
      "[Ferrari bought,[citation, Ferrari bought,[citation]\n",
      "0.0914     1  alfa romeo racing cars\n",
      "[Alfa Romeo racing cars]\n",
      "0.0787     1  the first ferrari car\n",
      "[the first Ferrari car]\n",
      "0.0786     1  racing cars\n",
      "[racing cars]\n",
      "0.0780     1  road cars\n",
      "[road cars]\n",
      "0.0765     1  road car production\n",
      "[road car production]\n",
      "0.0763     1  964 ferrari cars\n",
      "[964 Ferrari cars]\n",
      "0.0714     5  alfa romeo\n",
      "[Alfa Romeo, Alfa Romeo, Alfa Romeo, Alfa Romeo, Alfa Romeo]\n",
      "0.0703     1  the last new ferrari\n",
      "[the last new Ferrari]\n",
      "0.0684     1  the ferrari driving days event\n",
      "[the Ferrari Driving Days event]\n",
      "0.0677     1  the ferrari name\n",
      "[the Ferrari name]\n",
      "0.0674     1  the ferrari factory\n",
      "[the Ferrari factory]\n",
      "0.0673     1  ferrari s.p.a.[16\n",
      "[Ferrari S.p.A.[16]\n",
      "0.0654     1  ferraris parent\n",
      "[Ferrari's parent]\n",
      "0.0652     2  the ferrari f40\n",
      "[the Ferrari F40, the Ferrari F40]\n",
      "0.0648     1  \"team ferrari\n",
      "[\"Team Ferrari]\n",
      "0.0648     1  the ferrari range\n",
      "[the Ferrari range]\n",
      "0.0637     1  manufacturers fiat\n",
      "[manufacturers Fiat]\n",
      "0.0631     4  scuderia\n",
      "[Scuderia, Scuderia, Scuderia, team:[1]the Scuderia]\n",
      "0.0613     2  the first ferrari-badged car\n",
      "[the first Ferrari-badged car, The first Ferrari-badged car]\n",
      "0.0593     7  alfa\n",
      "[Alfa, Alfa, Alfa, Alfa, Alfa, Alfa, Alfa]\n",
      "0.0587     2  fiat chrysler automobiles\n",
      "[Fiat Chrysler Automobiles, Fiat Chrysler Automobiles]\n",
      "0.0585     1  alfa corse\n",
      "[Alfa Corse]\n",
      "0.0565     1  new model investment\n",
      "[New model investment]\n",
      "0.0553     1  alfas grand prix cars\n",
      "[Alfa's Grand Prix cars]\n",
      "0.0549     1  an italian luxury sports car manufacturer\n",
      "[an Italian luxury sports car manufacturer]\n",
      "0.0543     2  fiat dino\n",
      "[Fiat Dino, Fiat Dino]\n",
      "0.0541     1  the old scuderia ferrari.[1]the new company\n",
      "[the old Scuderia Ferrari.[1]The new company]\n",
      "0.0538     5  fiat\n",
      "[Fiat, Fiat, Fiat, Fiat, Fiat]\n",
      "0.0531     1  the factory racing cars\n",
      "[the factory racing cars]\n",
      "0.0523     3  enzo\n",
      "[Enzo, Enzo, the Enzo]\n",
      "0.0497     1  the alfa romeo race division\n",
      "[the Alfa Romeo race division]\n",
      "0.0481     1  board member louis camilleri\n",
      "[board member Louis Camilleri]\n",
      "0.0471     1  many famous drivers\n",
      "[many famous drivers]\n",
      "0.0470     4  silverstone circuit\n",
      "[Silverstone Circuit, Silverstone Circuit, the Silverstone Circuit, the Silverstone Circuit]\n",
      "0.0467     1  a race car\n",
      "[a race car]\n",
      "0.0464     4  auto avio costruzioni\n",
      "[Auto Avio Costruzioni, Auto Avio Costruzioni, Auto Avio Costruzioni, Auto Avio Costruzioni]\n",
      "0.0464     1  its first car\n",
      "[its first car]\n",
      "0.0450     1  società esercizio fabbriche\n",
      "[Società Esercizio Fabbriche]\n",
      "0.0447     2  world war ii\n",
      "[World War II, World War II]\n",
      "0.0445     1  available investment funds\n",
      "[available investment funds]\n",
      "0.0443     2  ceo\n",
      "[CEO, CEO]\n",
      "0.0421     1  gentleman drivers\n",
      "[gentleman drivers]\n",
      "0.0409     2  luca di montezemolo\n",
      "[Luca di Montezemolo, Luca di Montezemolo]\n",
      "0.0409     1  customer teams\n",
      "[customer teams]\n",
      "0.0397     3  works\n",
      "[works, work, its works]\n",
      "0.0395     2  mille miglia\n",
      "[Mille Miglia, the 1940 Mille Miglia]\n",
      "0.0393     1  louis camilleri\n",
      "[Louis Camilleri]\n",
      "0.0391     2  tazio nuvolari\n",
      "[Tazio Nuvolari, Tazio Nuvolari]\n",
      "0.0382     1  races\n",
      "[races]\n",
      "0.0380     1  machine tools\n",
      "[machine tools]\n",
      "0.0377     2  chairman\n",
      "[Chairman, Chairman]\n",
      "0.0374     2  sergio marchionne\n",
      "[Sergio Marchionne, Sergio Marchionne]\n",
      "0.0370     4  first\n",
      "[first, first, first, first]\n",
      "0.0368     2  john elkann\n",
      "[John Elkann, John Elkann]\n",
      "0.0365     1  little competition\n",
      "[little competition]\n",
      "0.0361     2  chrysler\n",
      "[Chrysler, Chrysler]\n",
      "0.0360     2  amedeo felisa\n",
      "[Amedeo Felisa, Amedeo Felisa]\n",
      "0.0346     2  vatican\n",
      "[Vatican, the Vatican]\n",
      "0.0344     1  the new racing department\n",
      "[the new racing department]\n",
      "0.0342     1  fiats turin plant\n",
      "[Fiat's Turin plant]\n",
      "0.0333     2  achille varzi\n",
      "[Achille Varzi, Achille Varzi]\n",
      "0.0327     1  aircraft accessories\n",
      "[aircraft accessories]\n",
      "0.0325     4  maranello\n",
      "[Maranello, Maranello, Maranello, Maranello]\n",
      "0.0323     1  company.[18]in july\n",
      "[company.[18]In July]\n",
      "0.0322     1  grand prix\n",
      "[Grand Prix]\n",
      "0.0314     1  amedeo\n",
      "[Amedeo]\n",
      "0.0307     1  record.[17]ferraris former ceo\n",
      "[record.[17]Ferrari's former CEO]\n",
      "0.0306     1  a fiat platform\n",
      "[a Fiat platform]\n",
      "0.0306     2  marchionne\n",
      "[Marchionne, Marchionne]\n",
      "0.0305     1  the racing division\n",
      "[the racing division]\n",
      "0.0304     1  headquarters\n",
      "[headquarters]\n",
      "0.0304     2  modena\n",
      "[Modena, Modena]\n",
      "0.0302     1  production\n",
      "[production]\n",
      "0.0292     1  its initial public offering\n",
      "[its initial public offering]\n",
      "0.0292     2  italian\n",
      "[Italian, Italian]\n",
      "0.0287     1  f60\n",
      "[F60]\n",
      "0.0285     4  the company\n",
      "[the company, the company, the company, the company]\n",
      "0.0278     1  days\n",
      "[Days]\n",
      "0.0271     1  loyal and recurring customers\n",
      "[loyal and recurring customers]\n",
      "0.0268     2  milan\n",
      "[Milan, Milan]\n",
      "0.0268     1  its racing operation\n",
      "[its racing operation]\n",
      "0.0267     1  an auto manufacturer\n",
      "[an auto manufacturer]\n",
      "0.0266     1  fca\n",
      "[FCA]\n",
      "0.0262     2  sefac s.p.a.\n",
      "[SEFAC S.p.A., SEFAC S.p.A.]\n",
      "0.0259     2  house\n",
      "[house, house]\n",
      "0.0258     1  a factory extension\n",
      "[a factory extension]\n",
      "0.0255     1  charity\n",
      "[charity]\n",
      "0.0255     1  400th\n",
      "[400th]\n",
      "0.0254     1  honor\n",
      "[honor]\n",
      "0.0252     2  f40\n",
      "[F40, the F40]\n",
      "0.0246     1  its luxury brand\n",
      "[its luxury brand]\n",
      "0.0243     1  disbanded.[1]in\n",
      "[disbanded.[1]In]\n",
      "0.0240     2  allies\n",
      "[Allies, the Allies]\n",
      "0.0238     1  manager\n",
      "[manager]\n",
      "0.0236     1  a public corporation\n",
      "[a public corporation]\n",
      "0.0236     1  the companys founder\n",
      "[the company's founder]\n",
      "0.0234     1  chairman.[19]on 29 october\n",
      "[chairman.[19]On 29 October]\n",
      "0.0234     1  the companys inception\n",
      "[the company's inception]\n",
      "0.0234     1  association\n",
      "[association]\n",
      "0.0233     1  a price tag\n",
      "[a price tag]\n",
      "0.0230     1  record.[17]ferrari\n",
      "[record.[17]Ferrari]\n",
      "0.0222     1  the name\n",
      "[the name]\n",
      "0.0217     1  turin\n",
      "[Turin]\n",
      "0.0215     1  a 1.5 l v12 engine;[1\n",
      "[a 1.5 L V12 engine;[1]\n",
      "0.0214     1  the factory\n",
      "[The factory]\n",
      "0.0213     2  f50\n",
      "[F50, F50]\n",
      "0.0209     1  their fastest model\n",
      "[their fastest model]\n",
      "0.0204     1  the fca group\n",
      "[the FCA group]\n",
      "0.0195     1  an immediate result\n",
      "[An immediate result]\n",
      "0.0189     1  an independent brand\n",
      "[an independent brand]\n",
      "0.0187     1  the latest specifications\n",
      "[the latest specifications]\n",
      "0.0178     2  italy\n",
      "[Italy, Italy]\n",
      "0.0173     1  a 50% stake\n",
      "[a 50% stake]\n",
      "0.0169     1  the market\n",
      "[the market]\n",
      "0.0163     1  whose stake\n",
      "[whose stake]\n",
      "0.0160     1  an increase\n",
      "[an increase]\n",
      "0.0160     3  10%\n",
      "[10%, 50%, 10%]\n",
      "0.0157     2  september 1939\n",
      "[September 1939, September 2012]\n",
      "0.0156     1  3 may 2016 amedeo\n",
      "[3 May 2016 Amedeo]\n",
      "0.0152     3  20 october\n",
      "[20 October, October 2014, 20 October]\n",
      "0.0143     1  the merger\n",
      "[the merger]\n",
      "0.0142     1  the idea\n",
      "[the idea]\n",
      "0.0137     1  a few days later\n",
      "[A few days later]\n",
      "0.0130     1  his automobiles\n",
      "[his automobiles]\n",
      "0.0127     1  the launch\n",
      "[the launch]\n",
      "0.0127     1  at least four years.[1\n",
      "[at least four years.[1]\n",
      "0.0123     1  july 2018\n",
      "[July 2018]\n",
      "0.0122     1  his death\n",
      "[his death]\n",
      "0.0121     3  23 years\n",
      "[23 years, 23 years, later that year]\n",
      "0.0120     1  the split\n",
      "[the split]\n",
      "0.0120     1  a world\n",
      "[a world]\n",
      "0.0117     2  1947 125 s\n",
      "[1947 125 S, the 1947 125 S]\n",
      "0.0116     1  the facilities\n",
      "[the facilities]\n",
      "0.0111     1  the provision\n",
      "[the provision]\n",
      "0.0106     1  the aim\n",
      "[The aim]\n",
      "0.0099     1  the time\n",
      "[the time]\n",
      "0.0097     1  [skudeˈriːa\n",
      "[[skudeˈriːa]\n",
      "0.0095     1  [ferˈraːri\n",
      "[[ferˈraːri]\n",
      "0.0095     1  an ipo\n",
      "[an IPO]\n",
      "0.0095     1  at least four\n",
      "[at least four]\n",
      "0.0091     1  a boost\n",
      "[a boost]\n",
      "0.0089     1  3 may 2016\n",
      "[3 May 2016]\n",
      "0.0062     1  means\"ferrari stable\n",
      "[means\"Ferrari Stable]\n",
      "0.0000    37  he\n",
      "[he, he, he, It, it, it, them, It, it, they, it, It, who, 1939, 1940, 1947, 1929, 1933, 1938, 1940, 815, 1940, 1943, 1.5, 1960, 1969, 1988, 1989, From 2002 to 2004, 399, 650,000, 964, $162 million, £99.95 million, 29, 2015.[20]Ferrari, 52]\n"
     ]
    }
   ],
   "source": [
    "doc = nlp(text)\n",
    "\n",
    "# examine the top-ranked phrases in the document\n",
    "for p in doc._.phrases:\n",
    "    print('{:.4f} {:5d}  {}'.format(p.rank, p.count, p.text))\n",
    "    print(p.chunks)\n"
   ]
  },
  {
   "cell_type": "code",
   "execution_count": 4,
   "metadata": {},
   "outputs": [
    {
     "name": "stdout",
     "output_type": "stream",
     "text": [
      "In 1938, Alfa Romeo brought its racing operation again in-house, forming Alfa Corse in Milan and hired Enzo Ferrari as manager of the new racing department; therefore the Scuderia Ferrari was disbanded.[1]In September 1939, Ferrari left Alfa Romeo under the provision he would not use the Ferrari name in association with races or racing cars for at least four years.[1]\n",
      "In 1988, Enzo Ferrari oversaw the launch of the Ferrari F40, the last new Ferrari launched before his death later that year.\n",
      "The first Ferrari-badged car was the 1947 125 S, powered by a 1.5 L V12 engine;[1]\n",
      "From 2002 to 2004, Ferrari produced the Enzo, their fastest model at the time, which was introduced and named in honor of the company's founder, Enzo Ferrari.\n",
      "Enzo Ferrari reluctantly built and sold his automobiles to fund Scuderia Ferrari.[15]The Scuderia Ferrari name was resurrected to denote the factory racing cars and distinguish them from those fielded by customer teams.\n"
     ]
    }
   ],
   "source": [
    "    \n",
    "for sent in doc._.textrank.summary(limit_phrases=15, limit_sentences=5):\n",
    "    print(sent)\n"
   ]
  },
  {
   "cell_type": "markdown",
   "metadata": {},
   "source": [
    "***\n",
    "Text Summarization with Gensim\n",
    "***"
   ]
  },
  {
   "cell_type": "code",
   "execution_count": 5,
   "metadata": {},
   "outputs": [],
   "source": [
    "from gensim.summarization import summarize"
   ]
  },
  {
   "cell_type": "code",
   "execution_count": 6,
   "metadata": {},
   "outputs": [
    {
     "name": "stdout",
     "output_type": "stream",
     "text": [
      "Ferrari (/fəˈrɑːri/; Italian: [ferˈraːri]) is an Italian luxury sports car manufacturer based in Maranello, Italy.Founded by Enzo Ferrari in 1939 out of the Alfa Romeo race division as Auto Avio Costruzioni, the company built its first car in 1940.\n",
      "In 1933, Alfa Romeo withdrew its in-house racing team and Scuderia Ferrari took over as its works team:[1]the Scuderia received Alfa's Grand Prix cars of the latest specifications and fielded many famous drivers such as Tazio Nuvolari and Achille Varzi.In 1938, Alfa Romeo brought its racing operation again in-house, forming Alfa Corse in Milan and hired Enzo Ferrari as manager of the new racing department; therefore the Scuderia Ferrari was disbanded.[1]In September 1939, Ferrari left Alfa Romeo under the provision he would not use the Ferrari name in association with races or racing cars for at least four years.[1] A few days later he founded Auto Avio Costruzioni, headquartered in the facilities of the old Scuderia Ferrari.[1]The new company ostensibly produced machine tools and aircraft accessories.\n"
     ]
    }
   ],
   "source": [
    "print(summarize(text))"
   ]
  },
  {
   "cell_type": "code",
   "execution_count": 7,
   "metadata": {},
   "outputs": [
    {
     "name": "stdout",
     "output_type": "stream",
     "text": [
      "['Ferrari (/fəˈrɑːri/; Italian: [ferˈraːri]) is an Italian luxury sports car manufacturer based in Maranello, Italy.Founded by Enzo Ferrari in 1939 out of the Alfa Romeo race division as Auto Avio Costruzioni, the company built its first car in 1940.', \"In 1933, Alfa Romeo withdrew its in-house racing team and Scuderia Ferrari took over as its works team:[1]the Scuderia received Alfa's Grand Prix cars of the latest specifications and fielded many famous drivers such as Tazio Nuvolari and Achille Varzi.In 1938, Alfa Romeo brought its racing operation again in-house, forming Alfa Corse in Milan and hired Enzo Ferrari as manager of the new racing department; therefore the Scuderia Ferrari was disbanded.[1]In September 1939, Ferrari left Alfa Romeo under the provision he would not use the Ferrari name in association with races or racing cars for at least four years.[1] A few days later he founded Auto Avio Costruzioni, headquartered in the facilities of the old Scuderia Ferrari.[1]The new company ostensibly produced machine tools and aircraft accessories.\"]\n"
     ]
    }
   ],
   "source": [
    "print(summarize(text, split=True))"
   ]
  },
  {
   "cell_type": "code",
   "execution_count": 8,
   "metadata": {},
   "outputs": [
    {
     "name": "stdout",
     "output_type": "stream",
     "text": [
      "Ferrari (/fəˈrɑːri/; Italian: [ferˈraːri]) is an Italian luxury sports car manufacturer based in Maranello, Italy.Founded by Enzo Ferrari in 1939 out of the Alfa Romeo race division as Auto Avio Costruzioni, the company built its first car in 1940.\n",
      "However, the company's inception as an auto manufacturer is usually recognized as 1947, when the first Ferrari-badged car was completedEnzo Ferrari was not initially interested in the idea of producing road cars when he formed Scuderia Ferrari in 1929, with headquarters in Modena.\n",
      "In 1933, Alfa Romeo withdrew its in-house racing team and Scuderia Ferrari took over as its works team:[1]the Scuderia received Alfa's Grand Prix cars of the latest specifications and fielded many famous drivers such as Tazio Nuvolari and Achille Varzi.In 1938, Alfa Romeo brought its racing operation again in-house, forming Alfa Corse in Milan and hired Enzo Ferrari as manager of the new racing department; therefore the Scuderia Ferrari was disbanded.[1]In September 1939, Ferrari left Alfa Romeo under the provision he would not use the Ferrari name in association with races or racing cars for at least four years.[1] A few days later he founded Auto Avio Costruzioni, headquartered in the facilities of the old Scuderia Ferrari.[1]The new company ostensibly produced machine tools and aircraft accessories.\n",
      "The factory was bombed by the Allies and subsequently rebuilt including works for road car production.The first Ferrari-badged car was the 1947 125 S, powered by a 1.5 L V12 engine;[1] Enzo Ferrari reluctantly built and sold his automobiles to fund Scuderia Ferrari.[15]The Scuderia Ferrari name was resurrected to denote the factory racing cars and distinguish them from those fielded by customer teams.In 1960 the company was restructured as a public corporation under the name SEFAC S.p.A.\n",
      "It was to be called the F60, continuing on from the F40 and F50, but Ferrari was so pleased with it, they called it the Enzo instead.It was initially offered to loyal and recurring customers, each of the 399 made (minus the 400th which was donated to the Vatican for charity) had a price tag of $650,000 apiece (equivalent to £400,900).On 15 September 2012, 964 Ferrari cars worth over $162 million (£99.95 million) attended the Ferrari Driving Days event at Silverstone Circuit and paraded round the Silverstone Circuit setting a world record.[17]Ferrari's former CEO and Chairman, Luca di Montezemolo, resigned from the company after 23 years, who was succeeded by Amedeo Felisa and finally on 3 May 2016 Amedeo resigned and was succeeded by Sergio Marchionne, CEO and Chairman of Fiat Chrysler Automobiles, Ferrari's parent company.[18]In July 2018, Marchionne was replaced by board member Louis Camilleri as CEO and by John Elkann as chairman.[19]On 29 October 2014, the FCA group, resulting from the merger between manufacturers Fiat and Chrysler, announced the split of its luxury brand, Ferrari.\n",
      "The aim was to turn Ferrari into an independent brand, 10% of whose stake would be sold in an IPO in 2015.[20]Ferrari officially priced its initial public offering at $52 a share after the market close on 20 October 2015.[21]\n"
     ]
    }
   ],
   "source": [
    "print(summarize(text, ratio=0.5))"
   ]
  },
  {
   "cell_type": "code",
   "execution_count": 9,
   "metadata": {},
   "outputs": [
    {
     "name": "stdout",
     "output_type": "stream",
     "text": [
      "In 1933, Alfa Romeo withdrew its in-house racing team and Scuderia Ferrari took over as its works team:[1]the Scuderia received Alfa's Grand Prix cars of the latest specifications and fielded many famous drivers such as Tazio Nuvolari and Achille Varzi.In 1938, Alfa Romeo brought its racing operation again in-house, forming Alfa Corse in Milan and hired Enzo Ferrari as manager of the new racing department; therefore the Scuderia Ferrari was disbanded.[1]In September 1939, Ferrari left Alfa Romeo under the provision he would not use the Ferrari name in association with races or racing cars for at least four years.[1] A few days later he founded Auto Avio Costruzioni, headquartered in the facilities of the old Scuderia Ferrari.[1]The new company ostensibly produced machine tools and aircraft accessories.\n"
     ]
    }
   ],
   "source": [
    "print(summarize(text, word_count=100))"
   ]
  },
  {
   "cell_type": "code",
   "execution_count": 10,
   "metadata": {},
   "outputs": [
    {
     "name": "stdout",
     "output_type": "stream",
     "text": [
      "ferrari\n",
      "racing\n",
      "races\n",
      "cars\n",
      "romeo race\n",
      "car manufacturer\n",
      "alfa\n",
      "scuderia\n",
      "fiat\n",
      "enzo\n",
      "drivers\n",
      "marchionne\n",
      "team\n",
      "teams\n",
      "new\n",
      "factory\n",
      "company\n",
      "manufacturers\n",
      "producing\n",
      "produced\n",
      "circuit\n",
      "little\n",
      "public\n",
      "initially\n",
      "initial\n",
      "days\n",
      "works\n",
      "work\n",
      "auto\n",
      "million\n",
      "resigned\n",
      "amedeo\n",
      "louis\n",
      "member\n",
      "result\n",
      "group resulting\n",
      "investment\n",
      "spa\n",
      "italian\n",
      "model\n"
     ]
    }
   ],
   "source": [
    "from gensim.summarization import keywords\n",
    "print(keywords(text))"
   ]
  },
  {
   "cell_type": "code",
   "execution_count": 6,
   "metadata": {},
   "outputs": [],
   "source": [
    "def pagerank(sim_mat, eps=0.0001, d=0.85,iter=100):\n",
    "    prob = np.ones(len(sim_mat)) / len(sim_mat)\n",
    "    count =0\n",
    "    while True:\n",
    "        new_prob  = np.ones(len(sim_mat)) * (1 - d) / len(sim_mat) + (d * sim_mat.T.dot(prob))\n",
    "        delta = abs(new_prob - prob).sum()\n",
    "        if delta <= eps:\n",
    "            return new_prob\n",
    "        prob = new_prob\n",
    "    return prob\n"
   ]
  },
  {
   "cell_type": "code",
   "execution_count": 1,
   "metadata": {},
   "outputs": [],
   "source": [
    "import numpy as np\n"
   ]
  },
  {
   "cell_type": "code",
   "execution_count": 4,
   "metadata": {},
   "outputs": [
    {
     "name": "stdout",
     "output_type": "stream",
     "text": [
      "[[0.  0.2 0.1 0.4]\n",
      " [0.2 0.  0.1 0.2]\n",
      " [0.1 0.1 0.  0.4]\n",
      " [0.4 0.2 0.4 0. ]]\n"
     ]
    }
   ],
   "source": [
    "sim_mat= np.zeros([4,4])\n",
    "\n",
    "sim_mat[1,0] = sim_mat[0,1] = 0.2\n",
    "sim_mat[2,0] = sim_mat[0,2] = 0.1\n",
    "sim_mat[3,0] = sim_mat[0,3] = 0.4\n",
    "sim_mat[1,2] = sim_mat[2,1] = 0.1\n",
    "sim_mat[2,1] = sim_mat[2,1] = 0.1\n",
    "sim_mat[3,1] = sim_mat[1,3] = 0.2\n",
    "sim_mat[2,3] = sim_mat[3,2] = 0.4\n",
    "print(sim_mat)"
   ]
  },
  {
   "cell_type": "code",
   "execution_count": 7,
   "metadata": {},
   "outputs": [],
   "source": [
    "prob = pagerank(sim_mat)\n"
   ]
  },
  {
   "cell_type": "code",
   "execution_count": 8,
   "metadata": {},
   "outputs": [
    {
     "name": "stdout",
     "output_type": "stream",
     "text": [
      "[0.09894556 0.0820077  0.09252005 0.11655406]\n"
     ]
    }
   ],
   "source": [
    "print(prob)"
   ]
  },
  {
   "cell_type": "code",
   "execution_count": 9,
   "metadata": {},
   "outputs": [
    {
     "name": "stdout",
     "output_type": "stream",
     "text": [
      "[3, 0, 2, 1]\n"
     ]
    }
   ],
   "source": [
    "ranked_sentence_indexes = [item[0] for item in sorted(enumerate(prob), key=lambda item: -item[1])]\n",
    "print(ranked_sentence_indexes)"
   ]
  },
  {
   "cell_type": "raw",
   "metadata": {},
   "source": []
  }
 ],
 "metadata": {
  "kernelspec": {
   "display_name": "Python 3",
   "language": "python",
   "name": "python3"
  },
  "language_info": {
   "codemirror_mode": {
    "name": "ipython",
    "version": 3
   },
   "file_extension": ".py",
   "mimetype": "text/x-python",
   "name": "python",
   "nbconvert_exporter": "python",
   "pygments_lexer": "ipython3",
   "version": "3.6.10"
  }
 },
 "nbformat": 4,
 "nbformat_minor": 4
}
